{
 "cells": [
  {
   "cell_type": "code",
   "execution_count": 46,
   "id": "ff4b18c7",
   "metadata": {},
   "outputs": [],
   "source": [
    "import random\n",
    "\n",
    "suits = ('Hearts', 'Diamonds', 'Spades', 'Clubs')\n",
    "ranks = ('Two', 'Three', 'Four', 'Five', 'Six', 'Seven', 'Eight', 'Nine', 'Ten', 'Jack', 'Queen', 'King', 'Ace')\n",
    "values = {'Two':2, 'Three':3, 'Four':4, 'Five':5, 'Six':6, 'Seven':7, 'Eight':8, 'Nine':9, 'Ten':10, 'Jack':10,\n",
    "          'Queen':10, 'King':10, 'Ace':11}\n",
    " \n",
    "# Creating a class which initializes suits, ranks and values\n",
    "\n",
    "class ListOfCards:\n",
    "    \n",
    "    \n",
    "    def __init__(self,suits,ranks):\n",
    "        \n",
    "        self.suits = suits\n",
    "        self.ranks = ranks\n",
    "        self.values = values[rank]\n",
    "        \n",
    "# runs successfully"
   ]
  },
  {
   "cell_type": "code",
   "execution_count": 47,
   "id": "b6d32a3f",
   "metadata": {},
   "outputs": [],
   "source": [
    "# Creating a class that prints out the suit and rank using __str__ method\n",
    "\n",
    "class Card:\n",
    "    \n",
    "    def __init__(self,suits,ranks):\n",
    "        \n",
    "        self.suits = suits\n",
    "        self.ranks = ranks\n",
    "        \n",
    "    def __str__(self):\n",
    "        \n",
    "        return f\"{self.ranks} of {self.suits}\"\n",
    "\n",
    "# runs successfully "
   ]
  },
  {
   "cell_type": "code",
   "execution_count": 63,
   "id": "ec07cb50",
   "metadata": {},
   "outputs": [],
   "source": [
    "# Creating our deck of 52 cards and storing it in a list\n",
    "\n",
    "class Deck:\n",
    "    \n",
    "    def __init__(self):\n",
    "        \n",
    "        self.deck = []\n",
    "        \n",
    "        for suit in suits:\n",
    "            \n",
    "            for rank in ranks:\n",
    "                \n",
    "                created_card = Card(suit,rank)\n",
    "                \n",
    "                self.deck.append(created_card)\n",
    "        \n",
    "    def shuffle(self):\n",
    "        \n",
    "        random.shuffle(self.deck)\n",
    "        \n",
    "    def deal(self):\n",
    "        \n",
    "        return self.deck.pop()\n",
    "              \n",
    "        "
   ]
  },
  {
   "cell_type": "code",
   "execution_count": 67,
   "id": "cf689fef",
   "metadata": {},
   "outputs": [
    {
     "name": "stdout",
     "output_type": "stream",
     "text": [
      "<class '__main__.Deck'>\n",
      "<function Deck.shuffle at 0x000001E30EE8DCA0>\n"
     ]
    }
   ],
   "source": [
    "p = Deck\n",
    "print(p)\n",
    "print(p.shuffle)"
   ]
  }
 ],
 "metadata": {
  "kernelspec": {
   "display_name": "Python 3 (ipykernel)",
   "language": "python",
   "name": "python3"
  },
  "language_info": {
   "codemirror_mode": {
    "name": "ipython",
    "version": 3
   },
   "file_extension": ".py",
   "mimetype": "text/x-python",
   "name": "python",
   "nbconvert_exporter": "python",
   "pygments_lexer": "ipython3",
   "version": "3.9.12"
  }
 },
 "nbformat": 4,
 "nbformat_minor": 5
}
